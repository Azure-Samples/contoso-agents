{
 "cells": [
  {
   "cell_type": "code",
   "execution_count": null,
   "id": "f5ba86f8",
   "metadata": {},
   "outputs": [],
   "source": [
    "%load_ext autoreload\n",
    "%autoreload 2"
   ]
  },
  {
   "cell_type": "code",
   "execution_count": null,
   "id": "891d1cbb",
   "metadata": {},
   "outputs": [],
   "source": [
    "import sys\n",
    "sys.path.append(\"../src/agents\")"
   ]
  },
  {
   "cell_type": "code",
   "execution_count": null,
   "id": "00fc68f6",
   "metadata": {},
   "outputs": [],
   "source": [
    "from dotenv import load_dotenv\n",
    "\n",
    "load_dotenv(override=True)"
   ]
  },
  {
   "cell_type": "code",
   "execution_count": null,
   "id": "aae15bb9",
   "metadata": {},
   "outputs": [],
   "source": [
    "from semantic_kernel.contents import ChatHistory, ChatMessageContent\n",
    "import logging\n",
    "logging.basicConfig(level=logging.INFO)\n",
    "logger = logging.getLogger(__name__)"
   ]
  },
  {
   "cell_type": "code",
   "execution_count": null,
   "id": "535bc7a8",
   "metadata": {},
   "outputs": [],
   "source": [
    "from order.order_team import order_team\n",
    "history = ChatHistory()\n",
    "\n",
    "# Read order from file in /data\n",
    "with open(\"data/order1.json\", \"r\") as file:\n",
    "    order = file.read()\n",
    "\n",
    "history.add_user_message(f\"Please process the following order: {order}\")\n",
    "\n",
    "async for response in order_team.invoke(history=history):\n",
    "    msg: ChatMessageContent = response\n",
    "    logger.info(f\"{msg.name}: {msg.content}\")"
   ]
  },
  {
   "cell_type": "code",
   "execution_count": null,
   "id": "1dccfab2",
   "metadata": {},
   "outputs": [],
   "source": [
    "for m in history.messages:\n",
    "    print(f\"{m.name}: {m.content}\")"
   ]
  }
 ],
 "metadata": {
  "kernelspec": {
   "display_name": ".venv",
   "language": "python",
   "name": "python3"
  },
  "language_info": {
   "codemirror_mode": {
    "name": "ipython",
    "version": 3
   },
   "file_extension": ".py",
   "mimetype": "text/x-python",
   "name": "python",
   "nbconvert_exporter": "python",
   "pygments_lexer": "ipython3",
   "version": "3.13.2"
  }
 },
 "nbformat": 4,
 "nbformat_minor": 5
}
