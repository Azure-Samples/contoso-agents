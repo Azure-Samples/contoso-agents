{
 "cells": [
  {
   "cell_type": "code",
   "execution_count": 1,
   "id": "f5ba86f8",
   "metadata": {},
   "outputs": [],
   "source": [
    "%load_ext autoreload\n",
    "%autoreload 2"
   ]
  },
  {
   "cell_type": "code",
   "execution_count": 10,
   "id": "891d1cbb",
   "metadata": {},
   "outputs": [],
   "source": [
    "import sys\n",
    "sys.path.append(\"../src\")\n",
    "sys.path.append(\"../src/agents\")\n",
    "# sys.path.append(\"../\")\n",
    "# sys.path.append(\"../src/agents\")"
   ]
  },
  {
   "cell_type": "code",
   "execution_count": 11,
   "id": "00fc68f6",
   "metadata": {},
   "outputs": [
    {
     "data": {
      "text/plain": [
       "'https://oai-tst-sweden-2.openai.azure.com/'"
      ]
     },
     "execution_count": 11,
     "metadata": {},
     "output_type": "execute_result"
    }
   ],
   "source": [
    "from dotenv import load_dotenv\n",
    "\n",
    "load_dotenv(override=True)\n",
    "\n",
    "import os\n",
    "os.getenv(\"AZURE_OPENAI_ENDPOINT\")"
   ]
  },
  {
   "cell_type": "code",
   "execution_count": 12,
   "id": "aae15bb9",
   "metadata": {},
   "outputs": [],
   "source": [
    "from semantic_kernel.contents import ChatHistory, ChatMessageContent\n",
    "import logging\n",
    "logging.basicConfig(level=logging.INFO)\n",
    "logger = logging.getLogger(__name__)"
   ]
  },
  {
   "cell_type": "code",
   "execution_count": null,
   "id": "535bc7a8",
   "metadata": {},
   "outputs": [
    {
     "name": "stderr",
     "output_type": "stream",
     "text": [
      "INFO:azure.identity._credentials.environment:No environment configuration found.\n",
      "INFO:azure.identity._credentials.managed_identity:ManagedIdentityCredential will use IMDS\n",
      "INFO:azure.core.pipeline.policies.http_logging_policy:Request URL: 'http://169.254.169.254/metadata/identity/oauth2/token?api-version=REDACTED&resource=REDACTED'\n",
      "Request method: 'GET'\n",
      "Request headers:\n",
      "    'User-Agent': 'azsdk-python-identity/1.21.0 Python/3.13.3 (Windows-11-10.0.26100-SP0)'\n",
      "No body was attached to the request\n",
      "INFO:azure.identity._credentials.managed_identity:ManagedIdentityCredential will use IMDS\n",
      "INFO:azure.core.pipeline.policies.http_logging_policy:Request URL: 'http://169.254.169.254/metadata/identity/oauth2/token?api-version=REDACTED&resource=REDACTED'\n",
      "Request method: 'GET'\n",
      "Request headers:\n",
      "    'User-Agent': 'azsdk-python-identity/1.21.0 Python/3.13.3 (Windows-11-10.0.26100-SP0)'\n",
      "No body was attached to the request\n",
      "INFO:azure.identity._credentials.chained:DefaultAzureCredential acquired a token from AzureCliCredential\n",
      "INFO:azure.identity._credentials.environment:No environment configuration found.\n",
      "INFO:azure.identity._credentials.managed_identity:ManagedIdentityCredential will use IMDS\n",
      "INFO:azure.core.pipeline.policies.http_logging_policy:Request URL: 'http://169.254.169.254/metadata/identity/oauth2/token?api-version=REDACTED&resource=REDACTED'\n",
      "Request method: 'GET'\n",
      "Request headers:\n",
      "    'User-Agent': 'azsdk-python-identity/1.21.0 Python/3.13.3 (Windows-11-10.0.26100-SP0)'\n",
      "No body was attached to the request\n",
      "INFO:azure.identity._credentials.chained:DefaultAzureCredential acquired a token from AzureCliCredential\n",
      "INFO:semantic_kernel.functions.kernel_function:Function SpeakerElection invoking.\n",
      "INFO:httpx:HTTP Request: POST https://oai-tst-sweden-2.openai.azure.com/openai/deployments/gpt-4o/chat/completions?api-version=2024-12-01-preview \"HTTP/1.1 200 OK\"\n",
      "INFO:semantic_kernel.connectors.ai.open_ai.services.open_ai_handler:OpenAI usage: CompletionUsage(completion_tokens=48, prompt_tokens=735, total_tokens=783, completion_tokens_details=CompletionTokensDetails(accepted_prediction_tokens=0, audio_tokens=0, reasoning_tokens=0, rejected_prediction_tokens=0), prompt_tokens_details=PromptTokensDetails(audio_tokens=0, cached_tokens=0))\n",
      "INFO:semantic_kernel.functions.kernel_function:Function SpeakerElection succeeded.\n",
      "INFO:semantic_kernel.functions.kernel_function:Function completed. Duration: 2.076310s\n",
      "INFO:sk_ext.speaker_election_strategy:SpeakerElectionStrategy: {\"agent_id\": \"fulfillment_agent\", \"reason\": \"This agent has the tool 'get_sku_availability', which is suitable for checking inventory availability for specified SKUs across all facilities, as requested by the user.\"}\n",
      "INFO:httpx:HTTP Request: POST https://oai-tst-sweden-2.openai.azure.com/openai/deployments/o3-mini/chat/completions?api-version=2024-12-01-preview \"HTTP/1.1 200 OK\"\n",
      "INFO:semantic_kernel.connectors.ai.open_ai.services.open_ai_handler:OpenAI usage: CompletionUsage(completion_tokens=482, prompt_tokens=1921, total_tokens=2403, completion_tokens_details=CompletionTokensDetails(accepted_prediction_tokens=0, audio_tokens=0, reasoning_tokens=448, rejected_prediction_tokens=0), prompt_tokens_details=PromptTokensDetails(audio_tokens=0, cached_tokens=0))\n",
      "INFO:semantic_kernel.connectors.ai.chat_completion_client_base:processing 1 tool calls in parallel.\n",
      "INFO:semantic_kernel.kernel:Calling FulfillmentPlugin-get_sku_availability function with args: {\"skus\": [\"SKU-A100\"]}\n",
      "INFO:semantic_kernel.functions.kernel_function:Function FulfillmentPlugin-get_sku_availability invoking.\n",
      "INFO:semantic_kernel.functions.kernel_function:Function FulfillmentPlugin-get_sku_availability succeeded.\n",
      "INFO:semantic_kernel.functions.kernel_function:Function completed. Duration: 0.001523s\n",
      "INFO:httpx:HTTP Request: POST https://oai-tst-sweden-2.openai.azure.com/openai/deployments/o3-mini/chat/completions?api-version=2024-12-01-preview \"HTTP/1.1 200 OK\"\n",
      "INFO:semantic_kernel.connectors.ai.open_ai.services.open_ai_handler:OpenAI usage: CompletionUsage(completion_tokens=284, prompt_tokens=1979, total_tokens=2263, completion_tokens_details=CompletionTokensDetails(accepted_prediction_tokens=0, audio_tokens=0, reasoning_tokens=256, rejected_prediction_tokens=0), prompt_tokens_details=PromptTokensDetails(audio_tokens=0, cached_tokens=1792))\n",
      "INFO:sk_ext.team:Agent fulfillment_agent sent message: \n",
      "INFO:semantic_kernel.agents.strategies.termination.termination_strategy:Evaluating termination criteria for fulfillment_agent\n",
      "INFO:semantic_kernel.agents.strategies.termination.termination_strategy:Evaluated criteria for fulfillment_agent, should terminate: False\n",
      "INFO:sk_ext.team:Agent fulfillment_agent sent message: \n",
      "INFO:sk_ext.team:Agent fulfillment_agent sent message: I'll check the inventory availability for SKU-A100 right away. One moment please.\n",
      "INFO:semantic_kernel.agents.strategies.termination.termination_strategy:Evaluating termination criteria for fulfillment_agent\n",
      "INFO:semantic_kernel.agents.strategies.termination.termination_strategy:Evaluated criteria for fulfillment_agent, should terminate: False\n",
      "INFO:__main__:OrderFulfillmentAgent: I'll check the inventory availability for SKU-A100 right away. One moment please.\n",
      "INFO:semantic_kernel.functions.kernel_function:Function SpeakerElection invoking.\n",
      "INFO:httpx:HTTP Request: POST https://oai-tst-sweden-2.openai.azure.com/openai/deployments/gpt-4o/chat/completions?api-version=2024-12-01-preview \"HTTP/1.1 200 OK\"\n",
      "INFO:semantic_kernel.connectors.ai.open_ai.services.open_ai_handler:OpenAI usage: CompletionUsage(completion_tokens=37, prompt_tokens=799, total_tokens=836, completion_tokens_details=CompletionTokensDetails(accepted_prediction_tokens=0, audio_tokens=0, reasoning_tokens=0, rejected_prediction_tokens=0), prompt_tokens_details=PromptTokensDetails(audio_tokens=0, cached_tokens=0))\n",
      "INFO:semantic_kernel.functions.kernel_function:Function SpeakerElection succeeded.\n",
      "INFO:semantic_kernel.functions.kernel_function:Function completed. Duration: 1.195293s\n",
      "INFO:sk_ext.speaker_election_strategy:SpeakerElectionStrategy: {\"agent_id\": \"validator_agent\", \"reason\": \"Validator Agent is best suited to check inventory availability for SKU-A100 using the 'check_inventory_availability' tool.\"}\n",
      "INFO:httpx:HTTP Request: POST https://oai-tst-sweden-2.openai.azure.com/openai/deployments/gpt-4o/chat/completions?api-version=2024-12-01-preview \"HTTP/1.1 200 OK\"\n",
      "INFO:semantic_kernel.connectors.ai.open_ai.services.open_ai_handler:OpenAI usage: CompletionUsage(completion_tokens=26, prompt_tokens=981, total_tokens=1007, completion_tokens_details=CompletionTokensDetails(accepted_prediction_tokens=0, audio_tokens=0, reasoning_tokens=0, rejected_prediction_tokens=0), prompt_tokens_details=PromptTokensDetails(audio_tokens=0, cached_tokens=0))\n",
      "INFO:semantic_kernel.connectors.ai.chat_completion_client_base:processing 1 tool calls in parallel.\n",
      "INFO:semantic_kernel.kernel:Calling ValidationPlugin-check_inventory_availability function with args: {\"sku_quantity_list\":[\"SKU-A100:1\"]}\n",
      "INFO:semantic_kernel.functions.kernel_function:Function ValidationPlugin-check_inventory_availability invoking.\n",
      "INFO:agents.order.plugins.validation_plugin:Inventory Check completed. Here are the results:\n",
      "{'SKU-A100': {'requested': 1, 'available': 430, 'is_available': True, 'locations': [{'facility_id': 'wh001', 'name': 'Central Warehouse', 'available': 250}, {'facility_id': 'wh002', 'name': 'West Coast Distribution Center', 'available': 180}]}}\n",
      "INFO:semantic_kernel.functions.kernel_function:Function ValidationPlugin-check_inventory_availability succeeded.\n",
      "INFO:semantic_kernel.functions.kernel_function:Function completed. Duration: 5.356512s\n",
      "INFO:httpx:HTTP Request: POST https://oai-tst-sweden-2.openai.azure.com/openai/deployments/gpt-4o/chat/completions?api-version=2024-12-01-preview \"HTTP/1.1 200 OK\"\n",
      "INFO:semantic_kernel.connectors.ai.open_ai.services.open_ai_handler:OpenAI usage: CompletionUsage(completion_tokens=82, prompt_tokens=1098, total_tokens=1180, completion_tokens_details=CompletionTokensDetails(accepted_prediction_tokens=0, audio_tokens=0, reasoning_tokens=0, rejected_prediction_tokens=0), prompt_tokens_details=PromptTokensDetails(audio_tokens=0, cached_tokens=0))\n",
      "INFO:sk_ext.team:Agent validator_agent sent message: \n",
      "INFO:semantic_kernel.agents.strategies.termination.termination_strategy:Evaluating termination criteria for validator_agent\n",
      "INFO:semantic_kernel.agents.strategies.termination.termination_strategy:Evaluated criteria for validator_agent, should terminate: False\n",
      "INFO:sk_ext.team:Agent validator_agent sent message: \n",
      "INFO:sk_ext.team:Agent validator_agent sent message: SKU-A100 is currently available in our inventory. Here's the detailed availability:\n",
      "\n",
      "- **Requested Quantity:** 1 unit\n",
      "- **Available Quantity:** 430 units\n",
      "\n",
      "**Locations:**\n",
      "- **Central Warehouse:** 250 units available\n",
      "- **West Coast Distribution Center:** 180 units available\n",
      "\n",
      "If you need to adjust your order quantity or have any other questions, feel free to let me know!\n",
      "INFO:semantic_kernel.agents.strategies.termination.termination_strategy:Evaluating termination criteria for validator_agent\n",
      "INFO:semantic_kernel.agents.strategies.termination.termination_strategy:Evaluated criteria for validator_agent, should terminate: False\n",
      "INFO:__main__:OrderValidator: SKU-A100 is currently available in our inventory. Here's the detailed availability:\n",
      "\n",
      "- **Requested Quantity:** 1 unit\n",
      "- **Available Quantity:** 430 units\n",
      "\n",
      "**Locations:**\n",
      "- **Central Warehouse:** 250 units available\n",
      "- **West Coast Distribution Center:** 180 units available\n",
      "\n",
      "If you need to adjust your order quantity or have any other questions, feel free to let me know!\n",
      "INFO:semantic_kernel.functions.kernel_function:Function SpeakerElection invoking.\n",
      "INFO:httpx:HTTP Request: POST https://oai-tst-sweden-2.openai.azure.com/openai/deployments/gpt-4o/chat/completions?api-version=2024-12-01-preview \"HTTP/1.1 200 OK\"\n",
      "INFO:semantic_kernel.connectors.ai.open_ai.services.open_ai_handler:OpenAI usage: CompletionUsage(completion_tokens=33, prompt_tokens=879, total_tokens=912, completion_tokens_details=CompletionTokensDetails(accepted_prediction_tokens=0, audio_tokens=0, reasoning_tokens=0, rejected_prediction_tokens=0), prompt_tokens_details=PromptTokensDetails(audio_tokens=0, cached_tokens=0))\n",
      "INFO:semantic_kernel.functions.kernel_function:Function SpeakerElection succeeded.\n",
      "INFO:semantic_kernel.functions.kernel_function:Function completed. Duration: 1.146619s\n",
      "INFO:sk_ext.speaker_election_strategy:SpeakerElectionStrategy: {\"agent_id\": \"user_agent\", \"reason\": \"The user may now provide input to adjust the order quantity or ask further questions about the order.\"}\n",
      "INFO:httpx:HTTP Request: POST https://oai-tst-sweden-2.openai.azure.com/openai/deployments/gpt-4o/chat/completions?api-version=2024-12-01-preview \"HTTP/1.1 200 OK\"\n",
      "INFO:semantic_kernel.connectors.ai.open_ai.services.open_ai_handler:OpenAI usage: CompletionUsage(completion_tokens=3, prompt_tokens=320, total_tokens=323, completion_tokens_details=CompletionTokensDetails(accepted_prediction_tokens=0, audio_tokens=0, reasoning_tokens=0, rejected_prediction_tokens=0), prompt_tokens_details=PromptTokensDetails(audio_tokens=0, cached_tokens=0))\n",
      "INFO:sk_ext.team:Agent user_agent sent message: PAUSE\n",
      "INFO:semantic_kernel.agents.strategies.termination.termination_strategy:Evaluating termination criteria for user_agent\n",
      "INFO:semantic_kernel.agents.strategies.termination.termination_strategy:Evaluated criteria for user_agent, should terminate: True\n",
      "INFO:__main__:User: PAUSE\n"
     ]
    }
   ],
   "source": [
    "from order.order_team import assistant_team\n",
    "history = ChatHistory()\n",
    "\n",
    "# Read order from file in /data\n",
    "with open(\"data/input_order_1.json\", \"r\") as file:\n",
    "    order = file.read()\n",
    "\n",
    "history.add_user_message(f\"Tell availability for SKU-A100\")\n",
    "\n",
    "async for response in assistant_team.invoke(history=history):\n",
    "    msg: ChatMessageContent = response\n",
    "    logger.info(f\"{msg.name}: {msg.content}\")"
   ]
  },
  {
   "cell_type": "code",
   "execution_count": null,
   "id": "1dccfab2",
   "metadata": {},
   "outputs": [],
   "source": [
    "for m in history.messages:\n",
    "    print(f\"{m.name}: {m.content}\")"
   ]
  }
 ],
 "metadata": {
  "kernelspec": {
   "display_name": ".venv",
   "language": "python",
   "name": "python3"
  },
  "language_info": {
   "codemirror_mode": {
    "name": "ipython",
    "version": 3
   },
   "file_extension": ".py",
   "mimetype": "text/x-python",
   "name": "python",
   "nbconvert_exporter": "python",
   "pygments_lexer": "ipython3",
   "version": "3.13.3"
  }
 },
 "nbformat": 4,
 "nbformat_minor": 5
}
