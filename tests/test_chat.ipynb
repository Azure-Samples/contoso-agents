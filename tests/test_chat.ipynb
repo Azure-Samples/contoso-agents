{
 "cells": [
  {
   "cell_type": "code",
   "execution_count": 1,
   "id": "f5ba86f8",
   "metadata": {},
   "outputs": [],
   "source": [
    "%load_ext autoreload\n",
    "%autoreload 2"
   ]
  },
  {
   "cell_type": "code",
   "execution_count": 2,
   "id": "891d1cbb",
   "metadata": {},
   "outputs": [],
   "source": [
    "import sys\n",
    "sys.path.append(\"../src/agents\")"
   ]
  },
  {
   "cell_type": "code",
   "execution_count": 3,
   "id": "00fc68f6",
   "metadata": {},
   "outputs": [
    {
     "data": {
      "text/plain": [
       "'https://ricchi-oai-sw.openai.azure.com/'"
      ]
     },
     "execution_count": 3,
     "metadata": {},
     "output_type": "execute_result"
    }
   ],
   "source": [
    "from dotenv import load_dotenv\n",
    "\n",
    "load_dotenv(override=True)\n",
    "\n",
    "import os\n",
    "os.getenv(\"AZURE_OPENAI_ENDPOINT\")"
   ]
  },
  {
   "cell_type": "code",
   "execution_count": 4,
   "id": "aae15bb9",
   "metadata": {},
   "outputs": [],
   "source": [
    "from semantic_kernel.contents import ChatHistory, ChatMessageContent\n",
    "import logging\n",
    "logging.basicConfig(level=logging.INFO)\n",
    "logger = logging.getLogger(__name__)"
   ]
  },
  {
   "cell_type": "code",
   "execution_count": 5,
   "id": "535bc7a8",
   "metadata": {},
   "outputs": [
    {
     "name": "stderr",
     "output_type": "stream",
     "text": [
      "INFO:azure.identity._credentials.environment:Incomplete environment configuration for EnvironmentCredential. These variables are set: AZURE_TENANT_ID\n",
      "INFO:azure.identity._credentials.managed_identity:ManagedIdentityCredential will use IMDS\n",
      "INFO:azure.identity._credentials.environment:Incomplete environment configuration for EnvironmentCredential. These variables are set: AZURE_TENANT_ID\n",
      "INFO:azure.identity._credentials.managed_identity:ManagedIdentityCredential will use IMDS\n",
      "INFO:azure.core.pipeline.policies.http_logging_policy:Request URL: 'http://169.254.169.254/metadata/identity/oauth2/token?api-version=REDACTED&resource=REDACTED'\n",
      "Request method: 'GET'\n",
      "Request headers:\n",
      "    'User-Agent': 'azsdk-python-identity/1.21.0 Python/3.13.2 (Windows-11-10.0.26100-SP0)'\n",
      "No body was attached to the request\n",
      "INFO:azure.identity._credentials.chained:DefaultAzureCredential acquired a token from AzureCliCredential\n",
      "INFO:azure.identity._credentials.environment:Incomplete environment configuration for EnvironmentCredential. These variables are set: AZURE_TENANT_ID\n",
      "INFO:azure.identity._credentials.managed_identity:ManagedIdentityCredential will use IMDS\n",
      "INFO:azure.core.pipeline.policies.http_logging_policy:Request URL: 'http://169.254.169.254/metadata/identity/oauth2/token?api-version=REDACTED&resource=REDACTED'\n",
      "Request method: 'GET'\n",
      "Request headers:\n",
      "    'User-Agent': 'azsdk-python-identity/1.21.0 Python/3.13.2 (Windows-11-10.0.26100-SP0)'\n",
      "No body was attached to the request\n",
      "INFO:azure.identity._credentials.chained:DefaultAzureCredential acquired a token from AzureCliCredential\n",
      "INFO:azure.core.pipeline.policies.http_logging_policy:Request URL: 'https://csagcosmosmlevkuvkygwuw.documents.azure.com:443/'\n",
      "Request method: 'GET'\n",
      "Request headers:\n",
      "    'Cache-Control': 'no-cache'\n",
      "    'x-ms-version': 'REDACTED'\n",
      "    'x-ms-documentdb-query-iscontinuationexpected': 'REDACTED'\n",
      "    'x-ms-date': 'REDACTED'\n",
      "    'Accept': 'application/json'\n",
      "    'Content-Length': '0'\n",
      "    'User-Agent': 'azsdk-python-cosmos/4.9.0 Python/3.13.2 (Windows-11-10.0.26100-SP0)'\n",
      "    'authorization': 'REDACTED'\n",
      "No body was attached to the request\n",
      "INFO:azure.core.pipeline.policies.http_logging_policy:Response status: 401\n",
      "Response headers:\n",
      "    'Transfer-Encoding': 'chunked'\n",
      "    'Content-Type': 'application/json'\n",
      "    'Content-Location': 'REDACTED'\n",
      "    'Server': 'Microsoft-HTTPAPI/2.0'\n",
      "    'x-ms-activity-id': 'REDACTED'\n",
      "    'x-ms-substatus': 'REDACTED'\n",
      "    'Strict-Transport-Security': 'REDACTED'\n",
      "    'x-ms-gatewayversion': 'REDACTED'\n",
      "    'Date': 'Thu, 03 Apr 2025 13:32:29 GMT'\n"
     ]
    },
    {
     "ename": "CosmosHttpResponseError",
     "evalue": "(Unauthorized) Request blocked by Auth csagcosmosmlevkuvkygwuw : Provided AAD token was issued by the authority [16b3c013-d300-468d-ac64-7eda0820b6d3] which is not trusted by this database account. Please ensure the token has been issued by the AAD tenant(s) [cd150465-0cc5-4f78-869c-f4f803671e78].\r\nActivityId: bc522f20-6e45-4483-8e2d-f0ff7c87aad3, Microsoft.Azure.Documents.Common/2.14.0\nCode: Unauthorized\nMessage: Request blocked by Auth csagcosmosmlevkuvkygwuw : Provided AAD token was issued by the authority [16b3c013-d300-468d-ac64-7eda0820b6d3] which is not trusted by this database account. Please ensure the token has been issued by the AAD tenant(s) [cd150465-0cc5-4f78-869c-f4f803671e78].\r\nActivityId: bc522f20-6e45-4483-8e2d-f0ff7c87aad3, Microsoft.Azure.Documents.Common/2.14.0",
     "output_type": "error",
     "traceback": [
      "\u001b[31m---------------------------------------------------------------------------\u001b[39m",
      "\u001b[31mCosmosHttpResponseError\u001b[39m                   Traceback (most recent call last)",
      "\u001b[36mCell\u001b[39m\u001b[36m \u001b[39m\u001b[32mIn[5]\u001b[39m\u001b[32m, line 1\u001b[39m\n\u001b[32m----> \u001b[39m\u001b[32m1\u001b[39m \u001b[38;5;28;01mfrom\u001b[39;00m\u001b[38;5;250m \u001b[39m\u001b[34;01morder\u001b[39;00m\u001b[34;01m.\u001b[39;00m\u001b[34;01morder_team\u001b[39;00m\u001b[38;5;250m \u001b[39m\u001b[38;5;28;01mimport\u001b[39;00m assistant_team\n\u001b[32m      2\u001b[39m history = ChatHistory()\n\u001b[32m      4\u001b[39m \u001b[38;5;66;03m# Read order from file in /data\u001b[39;00m\n",
      "\u001b[36mFile \u001b[39m\u001b[32mc:\\Users\\ricchi\\Repos\\contoso-agents\\tests\\../src/agents\\order\\order_team.py:8\u001b[39m\n\u001b[32m      6\u001b[39m \u001b[38;5;28;01mfrom\u001b[39;00m\u001b[38;5;250m \u001b[39m\u001b[34;01msk_ext\u001b[39;00m\u001b[34;01m.\u001b[39;00m\u001b[34;01mfeedback_strategy\u001b[39;00m\u001b[38;5;250m \u001b[39m\u001b[38;5;28;01mimport\u001b[39;00m KernelFunctionFeedbackStrategy\n\u001b[32m      7\u001b[39m \u001b[38;5;28;01mfrom\u001b[39;00m\u001b[38;5;250m \u001b[39m\u001b[34;01msemantic_kernel\u001b[39;00m\u001b[34;01m.\u001b[39;00m\u001b[34;01mfunctions\u001b[39;00m\u001b[38;5;250m \u001b[39m\u001b[38;5;28;01mimport\u001b[39;00m KernelFunctionFromPrompt\n\u001b[32m----> \u001b[39m\u001b[32m8\u001b[39m \u001b[38;5;28;01mfrom\u001b[39;00m\u001b[38;5;250m \u001b[39m\u001b[34;01m.\u001b[39;00m\u001b[34;01mprice_agent\u001b[39;00m\u001b[38;5;250m \u001b[39m\u001b[38;5;28;01mimport\u001b[39;00m pricing_agent\n\u001b[32m      9\u001b[39m \u001b[38;5;28;01mfrom\u001b[39;00m\u001b[38;5;250m \u001b[39m\u001b[34;01m.\u001b[39;00m\u001b[34;01mfulfillment_agent\u001b[39;00m\u001b[38;5;250m \u001b[39m\u001b[38;5;28;01mimport\u001b[39;00m fulfillment_agent\n\u001b[32m     10\u001b[39m \u001b[38;5;28;01mfrom\u001b[39;00m\u001b[38;5;250m \u001b[39m\u001b[34;01m.\u001b[39;00m\u001b[34;01mvalidator_agent\u001b[39;00m\u001b[38;5;250m \u001b[39m\u001b[38;5;28;01mimport\u001b[39;00m validator_agent\n",
      "\u001b[36mFile \u001b[39m\u001b[32mc:\\Users\\ricchi\\Repos\\contoso-agents\\tests\\../src/agents\\order\\price_agent.py:55\u001b[39m\n\u001b[32m     40\u001b[39m             \u001b[38;5;28;01mreturn\u001b[39;00m \u001b[38;5;28;01mNone\u001b[39;00m\n\u001b[32m     42\u001b[39m         \u001b[38;5;28;01mreturn\u001b[39;00m \u001b[38;5;28;01mNone\u001b[39;00m\n\u001b[32m     45\u001b[39m pricing_agent = ChatCompletionAgent(\n\u001b[32m     46\u001b[39m     \u001b[38;5;28mid\u001b[39m=\u001b[33m\"\u001b[39m\u001b[33mpricing_agent\u001b[39m\u001b[33m\"\u001b[39m,\n\u001b[32m     47\u001b[39m     name=\u001b[33m\"\u001b[39m\u001b[33mPricingAgent\u001b[39m\u001b[33m\"\u001b[39m,\n\u001b[32m     48\u001b[39m     description=\u001b[33m\"\u001b[39m\u001b[33mThis agent helps to determine if a discount is applicable based on the order details.\u001b[39m\u001b[33m\"\u001b[39m,\n\u001b[32m     49\u001b[39m     instructions=\u001b[33m\"\"\"\u001b[39m\n\u001b[32m     50\u001b[39m \u001b[33mYou are a pricing agent that checks if a discount is applicable based on the order details.\u001b[39m\n\u001b[32m     51\u001b[39m \u001b[33mYou will receive a SKU and quantity, and you need to check if a discount is applicable.\u001b[39m\n\u001b[32m     52\u001b[39m \u001b[33mYou can also check if a customer has a specific price for the SKU.\u001b[39m\n\u001b[32m     53\u001b[39m \u001b[33m\"\"\"\u001b[39m,\n\u001b[32m     54\u001b[39m     service=get_azure_openai_client(),\n\u001b[32m---> \u001b[39m\u001b[32m55\u001b[39m     plugins=[\u001b[43mPricingAgentPlugin\u001b[49m\u001b[43m(\u001b[49m\u001b[43m)\u001b[49m],\n\u001b[32m     56\u001b[39m )\n",
      "\u001b[36mFile \u001b[39m\u001b[32mc:\\Users\\ricchi\\Repos\\contoso-agents\\tests\\../src/agents\\order\\price_agent.py:11\u001b[39m, in \u001b[36mPricingAgentPlugin.__init__\u001b[39m\u001b[34m(self)\u001b[39m\n\u001b[32m     10\u001b[39m \u001b[38;5;28;01mdef\u001b[39;00m\u001b[38;5;250m \u001b[39m\u001b[34m__init__\u001b[39m(\u001b[38;5;28mself\u001b[39m):\n\u001b[32m---> \u001b[39m\u001b[32m11\u001b[39m     \u001b[38;5;28mself\u001b[39m.data_store = \u001b[43mget_data_store\u001b[49m\u001b[43m(\u001b[49m\u001b[43m)\u001b[49m\n",
      "\u001b[36mFile \u001b[39m\u001b[32mc:\\Users\\ricchi\\Repos\\contoso-agents\\tests\\../src/agents\\utils\\store.py:140\u001b[39m, in \u001b[36mget_data_store\u001b[39m\u001b[34m()\u001b[39m\n\u001b[32m    135\u001b[39m \u001b[38;5;28;01mdef\u001b[39;00m\u001b[38;5;250m \u001b[39m\u001b[34mget_data_store\u001b[39m() -> DataStore:\n\u001b[32m    136\u001b[39m     \u001b[38;5;66;03m# This function can be modified to return different data store implementations\u001b[39;00m\n\u001b[32m    137\u001b[39m     \u001b[38;5;66;03m# based on the environment or configuration.\u001b[39;00m\n\u001b[32m    138\u001b[39m     \u001b[38;5;28;01mif\u001b[39;00m config.COSMOSDB_ENDPOINT:\n\u001b[32m    139\u001b[39m         \u001b[38;5;66;03m# return DaprDataStore()\u001b[39;00m\n\u001b[32m--> \u001b[39m\u001b[32m140\u001b[39m         \u001b[38;5;28;01mreturn\u001b[39;00m \u001b[43mCosmosDataStore\u001b[49m\u001b[43m(\u001b[49m\u001b[43m)\u001b[49m\n\u001b[32m    141\u001b[39m     \u001b[38;5;28;01melse\u001b[39;00m:\n\u001b[32m    142\u001b[39m         \u001b[38;5;28;01mreturn\u001b[39;00m LocalDataStore()\n",
      "\u001b[36mFile \u001b[39m\u001b[32mc:\\Users\\ricchi\\Repos\\contoso-agents\\tests\\../src/agents\\utils\\store.py:63\u001b[39m, in \u001b[36mCosmosDataStore.__init__\u001b[39m\u001b[34m(self)\u001b[39m\n\u001b[32m     61\u001b[39m \u001b[38;5;28;01mdef\u001b[39;00m\u001b[38;5;250m \u001b[39m\u001b[34m__init__\u001b[39m(\u001b[38;5;28mself\u001b[39m):\n\u001b[32m     62\u001b[39m     \u001b[38;5;28msuper\u001b[39m().\u001b[34m__init__\u001b[39m()\n\u001b[32m---> \u001b[39m\u001b[32m63\u001b[39m     \u001b[38;5;28mself\u001b[39m.client = \u001b[43mCosmosClient\u001b[49m\u001b[43m(\u001b[49m\n\u001b[32m     64\u001b[39m \u001b[43m        \u001b[49m\u001b[43murl\u001b[49m\u001b[43m=\u001b[49m\u001b[43mconfig\u001b[49m\u001b[43m.\u001b[49m\u001b[43mCOSMOSDB_ENDPOINT\u001b[49m\u001b[43m,\u001b[49m\n\u001b[32m     65\u001b[39m \u001b[43m        \u001b[49m\u001b[43mcredential\u001b[49m\u001b[43m=\u001b[49m\u001b[43mDefaultAzureCredential\u001b[49m\u001b[43m(\u001b[49m\u001b[43m)\u001b[49m\u001b[43m,\u001b[49m\n\u001b[32m     66\u001b[39m \u001b[43m    \u001b[49m\u001b[43m)\u001b[49m\n\u001b[32m     67\u001b[39m     \u001b[38;5;28mself\u001b[39m.database = \u001b[38;5;28mself\u001b[39m.client.get_database_client(config.COSMOSDB_DATABASE)\n\u001b[32m     68\u001b[39m     \u001b[38;5;28mself\u001b[39m.container = \u001b[38;5;28mself\u001b[39m.database.get_container_client(\n\u001b[32m     69\u001b[39m         config.COSMOSDB_DATA_CONTAINER\n\u001b[32m     70\u001b[39m     )\n",
      "\u001b[36mFile \u001b[39m\u001b[32mc:\\Users\\ricchi\\Repos\\contoso-agents\\.venv\\Lib\\site-packages\\azure\\cosmos\\cosmos_client.py:205\u001b[39m, in \u001b[36mCosmosClient.__init__\u001b[39m\u001b[34m(self, url, credential, consistency_level, **kwargs)\u001b[39m\n\u001b[32m    203\u001b[39m auth = _build_auth(credential)\n\u001b[32m    204\u001b[39m connection_policy = _build_connection_policy(kwargs)\n\u001b[32m--> \u001b[39m\u001b[32m205\u001b[39m \u001b[38;5;28mself\u001b[39m.client_connection = \u001b[43mCosmosClientConnection\u001b[49m\u001b[43m(\u001b[49m\n\u001b[32m    206\u001b[39m \u001b[43m    \u001b[49m\u001b[43murl\u001b[49m\u001b[43m,\u001b[49m\u001b[43m \u001b[49m\u001b[43mauth\u001b[49m\u001b[43m=\u001b[49m\u001b[43mauth\u001b[49m\u001b[43m,\u001b[49m\u001b[43m \u001b[49m\u001b[43mconsistency_level\u001b[49m\u001b[43m=\u001b[49m\u001b[43mconsistency_level\u001b[49m\u001b[43m,\u001b[49m\u001b[43m \u001b[49m\u001b[43mconnection_policy\u001b[49m\u001b[43m=\u001b[49m\u001b[43mconnection_policy\u001b[49m\u001b[43m,\u001b[49m\u001b[43m \u001b[49m\u001b[43m*\u001b[49m\u001b[43m*\u001b[49m\u001b[43mkwargs\u001b[49m\n\u001b[32m    207\u001b[39m \u001b[43m\u001b[49m\u001b[43m)\u001b[49m\n",
      "\u001b[36mFile \u001b[39m\u001b[32mc:\\Users\\ricchi\\Repos\\contoso-agents\\.venv\\Lib\\site-packages\\azure\\cosmos\\_cosmos_client_connection.py:232\u001b[39m, in \u001b[36mCosmosClientConnection.__init__\u001b[39m\u001b[34m(self, url_connection, auth, connection_policy, consistency_level, **kwargs)\u001b[39m\n\u001b[32m    229\u001b[39m \u001b[38;5;66;03m# Routing map provider\u001b[39;00m\n\u001b[32m    230\u001b[39m \u001b[38;5;28mself\u001b[39m._routing_map_provider = routing_map_provider.SmartRoutingMapProvider(\u001b[38;5;28mself\u001b[39m)\n\u001b[32m--> \u001b[39m\u001b[32m232\u001b[39m database_account = \u001b[38;5;28;43mself\u001b[39;49m\u001b[43m.\u001b[49m\u001b[43m_global_endpoint_manager\u001b[49m\u001b[43m.\u001b[49m\u001b[43m_GetDatabaseAccount\u001b[49m\u001b[43m(\u001b[49m\u001b[43m*\u001b[49m\u001b[43m*\u001b[49m\u001b[43mkwargs\u001b[49m\u001b[43m)\u001b[49m\n\u001b[32m    233\u001b[39m \u001b[38;5;28mself\u001b[39m._global_endpoint_manager.force_refresh(database_account)\n\u001b[32m    235\u001b[39m \u001b[38;5;66;03m# Use database_account if no consistency passed in to verify consistency level to be used\u001b[39;00m\n",
      "\u001b[36mFile \u001b[39m\u001b[32mc:\\Users\\ricchi\\Repos\\contoso-agents\\.venv\\Lib\\site-packages\\azure\\cosmos\\_global_endpoint_manager.py:127\u001b[39m, in \u001b[36m_GlobalEndpointManager._GetDatabaseAccount\u001b[39m\u001b[34m(self, **kwargs)\u001b[39m\n\u001b[32m    118\u001b[39m \u001b[38;5;250m\u001b[39m\u001b[33;03m\"\"\"Gets the database account.\u001b[39;00m\n\u001b[32m    119\u001b[39m \n\u001b[32m    120\u001b[39m \u001b[33;03mFirst tries by using the default endpoint, and if that doesn't work,\u001b[39;00m\n\u001b[32m   (...)\u001b[39m\u001b[32m    124\u001b[39m \u001b[33;03m:rtype: ~azure.cosmos.DatabaseAccount\u001b[39;00m\n\u001b[32m    125\u001b[39m \u001b[33;03m\"\"\"\u001b[39;00m\n\u001b[32m    126\u001b[39m \u001b[38;5;28;01mtry\u001b[39;00m:\n\u001b[32m--> \u001b[39m\u001b[32m127\u001b[39m     database_account = \u001b[38;5;28;43mself\u001b[39;49m\u001b[43m.\u001b[49m\u001b[43m_GetDatabaseAccountStub\u001b[49m\u001b[43m(\u001b[49m\u001b[38;5;28;43mself\u001b[39;49m\u001b[43m.\u001b[49m\u001b[43mDefaultEndpoint\u001b[49m\u001b[43m,\u001b[49m\u001b[43m \u001b[49m\u001b[43m*\u001b[49m\u001b[43m*\u001b[49m\u001b[43mkwargs\u001b[49m\u001b[43m)\u001b[49m\n\u001b[32m    128\u001b[39m     \u001b[38;5;28;01mreturn\u001b[39;00m database_account\n\u001b[32m    129\u001b[39m \u001b[38;5;66;03m# If for any reason(non-globaldb related), we are not able to get the database\u001b[39;00m\n\u001b[32m    130\u001b[39m \u001b[38;5;66;03m# account from the above call to GetDatabaseAccount, we would try to get this\u001b[39;00m\n\u001b[32m    131\u001b[39m \u001b[38;5;66;03m# information from any of the preferred locations that the user might have\u001b[39;00m\n\u001b[32m    132\u001b[39m \u001b[38;5;66;03m# specified (by creating a locational endpoint) and keeping eating the exception\u001b[39;00m\n\u001b[32m    133\u001b[39m \u001b[38;5;66;03m# until we get the database account and return None at the end, if we are not able\u001b[39;00m\n\u001b[32m    134\u001b[39m \u001b[38;5;66;03m# to get that info from any endpoints\u001b[39;00m\n",
      "\u001b[36mFile \u001b[39m\u001b[32mc:\\Users\\ricchi\\Repos\\contoso-agents\\.venv\\Lib\\site-packages\\azure\\cosmos\\_global_endpoint_manager.py:153\u001b[39m, in \u001b[36m_GlobalEndpointManager._GetDatabaseAccountStub\u001b[39m\u001b[34m(self, endpoint, **kwargs)\u001b[39m\n\u001b[32m    145\u001b[39m \u001b[38;5;28;01mdef\u001b[39;00m\u001b[38;5;250m \u001b[39m\u001b[34m_GetDatabaseAccountStub\u001b[39m(\u001b[38;5;28mself\u001b[39m, endpoint, **kwargs):\n\u001b[32m    146\u001b[39m \u001b[38;5;250m    \u001b[39m\u001b[33;03m\"\"\"Stub for getting database account from the client.\u001b[39;00m\n\u001b[32m    147\u001b[39m \u001b[33;03m    This can be used for mocking purposes as well.\u001b[39;00m\n\u001b[32m    148\u001b[39m \n\u001b[32m   (...)\u001b[39m\u001b[32m    151\u001b[39m \u001b[33;03m    :rtype: ~azure.cosmos.DatabaseAccount\u001b[39;00m\n\u001b[32m    152\u001b[39m \u001b[33;03m    \"\"\"\u001b[39;00m\n\u001b[32m--> \u001b[39m\u001b[32m153\u001b[39m     \u001b[38;5;28;01mreturn\u001b[39;00m \u001b[38;5;28;43mself\u001b[39;49m\u001b[43m.\u001b[49m\u001b[43mClient\u001b[49m\u001b[43m.\u001b[49m\u001b[43mGetDatabaseAccount\u001b[49m\u001b[43m(\u001b[49m\u001b[43mendpoint\u001b[49m\u001b[43m,\u001b[49m\u001b[43m \u001b[49m\u001b[43m*\u001b[49m\u001b[43m*\u001b[49m\u001b[43mkwargs\u001b[49m\u001b[43m)\u001b[49m\n",
      "\u001b[36mFile \u001b[39m\u001b[32mc:\\Users\\ricchi\\Repos\\contoso-agents\\.venv\\Lib\\site-packages\\azure\\cosmos\\_cosmos_client_connection.py:2551\u001b[39m, in \u001b[36mCosmosClientConnection.GetDatabaseAccount\u001b[39m\u001b[34m(self, url_connection, **kwargs)\u001b[39m\n\u001b[32m   2549\u001b[39m headers = base.GetHeaders(\u001b[38;5;28mself\u001b[39m, \u001b[38;5;28mself\u001b[39m.default_headers, \u001b[33m\"\u001b[39m\u001b[33mget\u001b[39m\u001b[33m\"\u001b[39m, \u001b[33m\"\u001b[39m\u001b[33m\"\u001b[39m, \u001b[33m\"\u001b[39m\u001b[33m\"\u001b[39m, \u001b[33m\"\u001b[39m\u001b[33m\"\u001b[39m, {})\n\u001b[32m   2550\u001b[39m request_params = RequestObject(\u001b[33m\"\u001b[39m\u001b[33mdatabaseaccount\u001b[39m\u001b[33m\"\u001b[39m, documents._OperationType.Read, url_connection)\n\u001b[32m-> \u001b[39m\u001b[32m2551\u001b[39m result, last_response_headers = \u001b[38;5;28;43mself\u001b[39;49m\u001b[43m.\u001b[49m\u001b[43m__Get\u001b[49m\u001b[43m(\u001b[49m\u001b[33;43m\"\u001b[39;49m\u001b[33;43m\"\u001b[39;49m\u001b[43m,\u001b[49m\u001b[43m \u001b[49m\u001b[43mrequest_params\u001b[49m\u001b[43m,\u001b[49m\u001b[43m \u001b[49m\u001b[43mheaders\u001b[49m\u001b[43m,\u001b[49m\u001b[43m \u001b[49m\u001b[43m*\u001b[49m\u001b[43m*\u001b[49m\u001b[43mkwargs\u001b[49m\u001b[43m)\u001b[49m\n\u001b[32m   2552\u001b[39m \u001b[38;5;28mself\u001b[39m.last_response_headers = last_response_headers\n\u001b[32m   2553\u001b[39m database_account = DatabaseAccount()\n",
      "\u001b[36mFile \u001b[39m\u001b[32mc:\\Users\\ricchi\\Repos\\contoso-agents\\.venv\\Lib\\site-packages\\azure\\cosmos\\_cosmos_client_connection.py:2808\u001b[39m, in \u001b[36mCosmosClientConnection.__Get\u001b[39m\u001b[34m(self, path, request_params, req_headers, **kwargs)\u001b[39m\n\u001b[32m   2799\u001b[39m \u001b[38;5;250m\u001b[39m\u001b[33;03m\"\"\"Azure Cosmos 'GET' http request.\u001b[39;00m\n\u001b[32m   2800\u001b[39m \n\u001b[32m   2801\u001b[39m \u001b[33;03m:param str path: the url to be used for the request.\u001b[39;00m\n\u001b[32m   (...)\u001b[39m\u001b[32m   2805\u001b[39m \u001b[33;03m:rtype: tuple of (dict, dict)\u001b[39;00m\n\u001b[32m   2806\u001b[39m \u001b[33;03m\"\"\"\u001b[39;00m\n\u001b[32m   2807\u001b[39m request = \u001b[38;5;28mself\u001b[39m.pipeline_client.get(url=path, headers=req_headers)\n\u001b[32m-> \u001b[39m\u001b[32m2808\u001b[39m \u001b[38;5;28;01mreturn\u001b[39;00m \u001b[43msynchronized_request\u001b[49m\u001b[43m.\u001b[49m\u001b[43mSynchronizedRequest\u001b[49m\u001b[43m(\u001b[49m\n\u001b[32m   2809\u001b[39m \u001b[43m    \u001b[49m\u001b[43mclient\u001b[49m\u001b[43m=\u001b[49m\u001b[38;5;28;43mself\u001b[39;49m\u001b[43m,\u001b[49m\n\u001b[32m   2810\u001b[39m \u001b[43m    \u001b[49m\u001b[43mrequest_params\u001b[49m\u001b[43m=\u001b[49m\u001b[43mrequest_params\u001b[49m\u001b[43m,\u001b[49m\n\u001b[32m   2811\u001b[39m \u001b[43m    \u001b[49m\u001b[43mglobal_endpoint_manager\u001b[49m\u001b[43m=\u001b[49m\u001b[38;5;28;43mself\u001b[39;49m\u001b[43m.\u001b[49m\u001b[43m_global_endpoint_manager\u001b[49m\u001b[43m,\u001b[49m\n\u001b[32m   2812\u001b[39m \u001b[43m    \u001b[49m\u001b[43mconnection_policy\u001b[49m\u001b[43m=\u001b[49m\u001b[38;5;28;43mself\u001b[39;49m\u001b[43m.\u001b[49m\u001b[43mconnection_policy\u001b[49m\u001b[43m,\u001b[49m\n\u001b[32m   2813\u001b[39m \u001b[43m    \u001b[49m\u001b[43mpipeline_client\u001b[49m\u001b[43m=\u001b[49m\u001b[38;5;28;43mself\u001b[39;49m\u001b[43m.\u001b[49m\u001b[43mpipeline_client\u001b[49m\u001b[43m,\u001b[49m\n\u001b[32m   2814\u001b[39m \u001b[43m    \u001b[49m\u001b[43mrequest\u001b[49m\u001b[43m=\u001b[49m\u001b[43mrequest\u001b[49m\u001b[43m,\u001b[49m\n\u001b[32m   2815\u001b[39m \u001b[43m    \u001b[49m\u001b[43mrequest_data\u001b[49m\u001b[43m=\u001b[49m\u001b[38;5;28;43;01mNone\u001b[39;49;00m\u001b[43m,\u001b[49m\n\u001b[32m   2816\u001b[39m \u001b[43m    \u001b[49m\u001b[43m*\u001b[49m\u001b[43m*\u001b[49m\u001b[43mkwargs\u001b[49m\n\u001b[32m   2817\u001b[39m \u001b[43m\u001b[49m\u001b[43m)\u001b[49m\n",
      "\u001b[36mFile \u001b[39m\u001b[32mc:\\Users\\ricchi\\Repos\\contoso-agents\\.venv\\Lib\\site-packages\\azure\\cosmos\\_synchronized_request.py:214\u001b[39m, in \u001b[36mSynchronizedRequest\u001b[39m\u001b[34m(client, request_params, global_endpoint_manager, connection_policy, pipeline_client, request, request_data, **kwargs)\u001b[39m\n\u001b[32m    211\u001b[39m     request.headers[http_constants.HttpHeaders.ContentLength] = \u001b[32m0\u001b[39m\n\u001b[32m    213\u001b[39m \u001b[38;5;66;03m# Pass _Request function with its parameters to retry_utility's Execute method that wraps the call with retries\u001b[39;00m\n\u001b[32m--> \u001b[39m\u001b[32m214\u001b[39m \u001b[38;5;28;01mreturn\u001b[39;00m \u001b[43m_retry_utility\u001b[49m\u001b[43m.\u001b[49m\u001b[43mExecute\u001b[49m\u001b[43m(\u001b[49m\n\u001b[32m    215\u001b[39m \u001b[43m    \u001b[49m\u001b[43mclient\u001b[49m\u001b[43m,\u001b[49m\n\u001b[32m    216\u001b[39m \u001b[43m    \u001b[49m\u001b[43mglobal_endpoint_manager\u001b[49m\u001b[43m,\u001b[49m\n\u001b[32m    217\u001b[39m \u001b[43m    \u001b[49m\u001b[43m_Request\u001b[49m\u001b[43m,\u001b[49m\n\u001b[32m    218\u001b[39m \u001b[43m    \u001b[49m\u001b[43mrequest_params\u001b[49m\u001b[43m,\u001b[49m\n\u001b[32m    219\u001b[39m \u001b[43m    \u001b[49m\u001b[43mconnection_policy\u001b[49m\u001b[43m,\u001b[49m\n\u001b[32m    220\u001b[39m \u001b[43m    \u001b[49m\u001b[43mpipeline_client\u001b[49m\u001b[43m,\u001b[49m\n\u001b[32m    221\u001b[39m \u001b[43m    \u001b[49m\u001b[43mrequest\u001b[49m\u001b[43m,\u001b[49m\n\u001b[32m    222\u001b[39m \u001b[43m    \u001b[49m\u001b[43m*\u001b[49m\u001b[43m*\u001b[49m\u001b[43mkwargs\u001b[49m\n\u001b[32m    223\u001b[39m \u001b[43m\u001b[49m\u001b[43m)\u001b[49m\n",
      "\u001b[36mFile \u001b[39m\u001b[32mc:\\Users\\ricchi\\Repos\\contoso-agents\\.venv\\Lib\\site-packages\\azure\\cosmos\\_retry_utility.py:97\u001b[39m, in \u001b[36mExecute\u001b[39m\u001b[34m(client, global_endpoint_manager, function, *args, **kwargs)\u001b[39m\n\u001b[32m     95\u001b[39m \u001b[38;5;28;01mtry\u001b[39;00m:\n\u001b[32m     96\u001b[39m     \u001b[38;5;28;01mif\u001b[39;00m args:\n\u001b[32m---> \u001b[39m\u001b[32m97\u001b[39m         result = \u001b[43mExecuteFunction\u001b[49m\u001b[43m(\u001b[49m\u001b[43mfunction\u001b[49m\u001b[43m,\u001b[49m\u001b[43m \u001b[49m\u001b[43mglobal_endpoint_manager\u001b[49m\u001b[43m,\u001b[49m\u001b[43m \u001b[49m\u001b[43m*\u001b[49m\u001b[43margs\u001b[49m\u001b[43m,\u001b[49m\u001b[43m \u001b[49m\u001b[43m*\u001b[49m\u001b[43m*\u001b[49m\u001b[43mkwargs\u001b[49m\u001b[43m)\u001b[49m\n\u001b[32m     98\u001b[39m     \u001b[38;5;28;01melse\u001b[39;00m:\n\u001b[32m     99\u001b[39m         result = ExecuteFunction(function, *args, **kwargs)\n",
      "\u001b[36mFile \u001b[39m\u001b[32mc:\\Users\\ricchi\\Repos\\contoso-agents\\.venv\\Lib\\site-packages\\azure\\cosmos\\_retry_utility.py:199\u001b[39m, in \u001b[36mExecuteFunction\u001b[39m\u001b[34m(function, *args, **kwargs)\u001b[39m\n\u001b[32m    192\u001b[39m \u001b[38;5;28;01mdef\u001b[39;00m\u001b[38;5;250m \u001b[39m\u001b[34mExecuteFunction\u001b[39m(function, *args, **kwargs):\n\u001b[32m    193\u001b[39m \u001b[38;5;250m    \u001b[39m\u001b[33;03m\"\"\"Stub method so that it can be used for mocking purposes as well.\u001b[39;00m\n\u001b[32m    194\u001b[39m \u001b[33;03m    :param Callable function: the function to execute.\u001b[39;00m\n\u001b[32m    195\u001b[39m \u001b[33;03m    :param list args: the explicit arguments for the function.\u001b[39;00m\n\u001b[32m    196\u001b[39m \u001b[33;03m    :returns: the result of executing the function with the passed in arguments\u001b[39;00m\n\u001b[32m    197\u001b[39m \u001b[33;03m    :rtype: tuple(dict, dict)\u001b[39;00m\n\u001b[32m    198\u001b[39m \u001b[33;03m    \"\"\"\u001b[39;00m\n\u001b[32m--> \u001b[39m\u001b[32m199\u001b[39m     \u001b[38;5;28;01mreturn\u001b[39;00m \u001b[43mfunction\u001b[49m\u001b[43m(\u001b[49m\u001b[43m*\u001b[49m\u001b[43margs\u001b[49m\u001b[43m,\u001b[49m\u001b[43m \u001b[49m\u001b[43m*\u001b[49m\u001b[43m*\u001b[49m\u001b[43mkwargs\u001b[49m\u001b[43m)\u001b[49m\n",
      "\u001b[36mFile \u001b[39m\u001b[32mc:\\Users\\ricchi\\Repos\\contoso-agents\\.venv\\Lib\\site-packages\\azure\\cosmos\\_synchronized_request.py:154\u001b[39m, in \u001b[36m_Request\u001b[39m\u001b[34m(global_endpoint_manager, request_params, connection_policy, pipeline_client, request, **kwargs)\u001b[39m\n\u001b[32m    152\u001b[39m     \u001b[38;5;28;01mraise\u001b[39;00m exceptions.CosmosAccessConditionFailedError(message=data, response=response)\n\u001b[32m    153\u001b[39m \u001b[38;5;28;01mif\u001b[39;00m response.status_code >= \u001b[32m400\u001b[39m:\n\u001b[32m--> \u001b[39m\u001b[32m154\u001b[39m     \u001b[38;5;28;01mraise\u001b[39;00m exceptions.CosmosHttpResponseError(message=data, response=response)\n\u001b[32m    156\u001b[39m result = \u001b[38;5;28;01mNone\u001b[39;00m\n\u001b[32m    157\u001b[39m \u001b[38;5;28;01mif\u001b[39;00m data:\n",
      "\u001b[31mCosmosHttpResponseError\u001b[39m: (Unauthorized) Request blocked by Auth csagcosmosmlevkuvkygwuw : Provided AAD token was issued by the authority [16b3c013-d300-468d-ac64-7eda0820b6d3] which is not trusted by this database account. Please ensure the token has been issued by the AAD tenant(s) [cd150465-0cc5-4f78-869c-f4f803671e78].\r\nActivityId: bc522f20-6e45-4483-8e2d-f0ff7c87aad3, Microsoft.Azure.Documents.Common/2.14.0\nCode: Unauthorized\nMessage: Request blocked by Auth csagcosmosmlevkuvkygwuw : Provided AAD token was issued by the authority [16b3c013-d300-468d-ac64-7eda0820b6d3] which is not trusted by this database account. Please ensure the token has been issued by the AAD tenant(s) [cd150465-0cc5-4f78-869c-f4f803671e78].\r\nActivityId: bc522f20-6e45-4483-8e2d-f0ff7c87aad3, Microsoft.Azure.Documents.Common/2.14.0"
     ]
    }
   ],
   "source": [
    "from order.order_team import assistant_team\n",
    "history = ChatHistory()\n",
    "\n",
    "# Read order from file in /data\n",
    "with open(\"data/input_order_1.json\", \"r\") as file:\n",
    "    order = file.read()\n",
    "\n",
    "history.add_user_message(f\"Tell availability for SKU-A100\")\n",
    "\n",
    "async for response in assistant_team.invoke(history=history):\n",
    "    msg: ChatMessageContent = response\n",
    "    logger.info(f\"{msg.name}: {msg.content}\")"
   ]
  },
  {
   "cell_type": "code",
   "execution_count": null,
   "id": "1dccfab2",
   "metadata": {},
   "outputs": [],
   "source": [
    "for m in history.messages:\n",
    "    print(f\"{m.name}: {m.content}\")"
   ]
  }
 ],
 "metadata": {
  "kernelspec": {
   "display_name": ".venv",
   "language": "python",
   "name": "python3"
  },
  "language_info": {
   "codemirror_mode": {
    "name": "ipython",
    "version": 3
   },
   "file_extension": ".py",
   "mimetype": "text/x-python",
   "name": "python",
   "nbconvert_exporter": "python",
   "pygments_lexer": "ipython3",
   "version": "3.13.2"
  }
 },
 "nbformat": 4,
 "nbformat_minor": 5
}
