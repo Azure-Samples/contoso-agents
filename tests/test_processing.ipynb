{
 "cells": [
  {
   "cell_type": "code",
   "execution_count": null,
   "id": "f5ba86f8",
   "metadata": {},
   "outputs": [],
   "source": [
    "%load_ext autoreload\n",
    "%autoreload 2"
   ]
  },
  {
   "cell_type": "code",
   "execution_count": null,
   "id": "40d8423d",
   "metadata": {},
   "outputs": [],
   "source": [
    "# !pip install rich"
   ]
  },
  {
   "cell_type": "code",
   "execution_count": null,
   "id": "891d1cbb",
   "metadata": {},
   "outputs": [],
   "source": [
    "import sys\n",
    "sys.path.append(\"../src/agents\")\n",
    "\n",
    "from rich.console import Console\n",
    "console = Console()"
   ]
  },
  {
   "cell_type": "code",
   "execution_count": null,
   "id": "00fc68f6",
   "metadata": {},
   "outputs": [],
   "source": [
    "from dotenv import load_dotenv\n",
    "\n",
    "load_dotenv(override=True)"
   ]
  },
  {
   "cell_type": "code",
   "execution_count": null,
   "id": "aae15bb9",
   "metadata": {},
   "outputs": [],
   "source": [
    "# Fix import error by explicitly importing ChatHistoryAgentThread\n",
    "from semantic_kernel.contents import ChatHistory, ChatMessageContent\n",
    "import logging\n",
    "logging.basicConfig(level=logging.INFO)\n",
    "logger = logging.getLogger(__name__)"
   ]
  },
  {
   "cell_type": "code",
   "execution_count": null,
   "id": "eff719c0",
   "metadata": {},
   "outputs": [],
   "source": [
    "# Update the order_team.py file to use the modified agents\n",
    "from order.order_team import processing_team"
   ]
  },
  {
   "cell_type": "code",
   "execution_count": null,
   "id": "535bc7a8",
   "metadata": {},
   "outputs": [],
   "source": [
    "history = ChatHistory()\n",
    "\n",
    "# Read order from file in /data\n",
    "with open(\"data/input_order_1.json\", \"r\") as file:\n",
    "    order = file.read()\n",
    "\n",
    "history.add_user_message(f\"Please process the following order with detailed markdown table summaries after each step: {order}\")\n",
    "\n",
    "async for response in processing_team.invoke(history=history):\n",
    "    msg: ChatMessageContent = response\n",
    "    logger.info(f\"{msg.name}: {msg.content}\")"
   ]
  },
  {
   "cell_type": "code",
   "execution_count": null,
   "id": "ea117cad",
   "metadata": {},
   "outputs": [],
   "source": [
    "# Extract and display all markdown tables from the conversation history\n",
    "import re\n",
    "\n",
    "def extract_markdown_tables(text):\n",
    "    # Regex to find markdown tables with headers and at least one row\n",
    "    pattern = r\"(\\|[^\\|]+\\|[^\\|]+\\|.*\\n\\|\\s*[-:]+\\s*\\|\\s*[-:]+\\s*\\|.*\\n(\\|.*\\|.*\\n)+)\"\n",
    "    tables = re.findall(pattern, text)\n",
    "    return [table[0] for table in tables]\n",
    "\n",
    "for i, msg in enumerate(history.messages):\n",
    "    if msg.content and msg.role == 'assistant':\n",
    "        tables = extract_markdown_tables(msg.content)\n",
    "        if tables:\n",
    "            print(f\"\\n--- {msg.name} ORDER SUMMARY TABLE ---\")\n",
    "            for table in tables:\n",
    "                print(table)"
   ]
  },
  {
   "cell_type": "code",
   "execution_count": null,
   "id": "53b7144c",
   "metadata": {},
   "outputs": [],
   "source": [
    "from semantic_kernel.functions import kernel_function\n",
    "from semantic_kernel.connectors.ai.function_choice_behavior import FunctionChoiceBehavior\n",
    "from semantic_kernel.contents.chat_history import ChatHistory\n",
    "\n",
    "from semantic_kernel.connectors.ai.open_ai.prompt_execution_settings.azure_chat_prompt_execution_settings import (\n",
    "    AzureChatPromptExecutionSettings,\n",
    ")\n",
    "\n",
    "# Enable planning\n",
    "execution_settings = AzureChatPromptExecutionSettings()"
   ]
  },
  {
   "cell_type": "code",
   "execution_count": null,
   "id": "1dccfab2",
   "metadata": {},
   "outputs": [],
   "source": [
    "for m in history.messages:\n",
    "    print(f\"{m.name}: {m.content}\")"
   ]
  },
  {
   "cell_type": "code",
   "execution_count": null,
   "id": "c6673a22",
   "metadata": {},
   "outputs": [],
   "source": [
    "from semantic_kernel.agents import ChatCompletionAgent\n",
    "from semantic_kernel.functions import kernel_function\n",
    "from utils.config import get_azure_openai_client\n",
    "from utils.store import get_data_store\n",
    "import datetime\n",
    "\n",
    "\n",
    "sku_list =  [\"SKU-A100\", \"SKU-A102\", \"SKU-A103\", \"SKU-A104\"]\n",
    "\n",
    "data_store = get_data_store()\n",
    "\n",
    "avaiilable_skus = await data_store.query_data(\"SELECT * FROM c\", \"sku\")\n",
    "skus_dict = {sku[\"id\"]: sku for sku in avaiilable_skus}\n",
    "\n",
    "# Check if all SKUs are available\n",
    "invalid_skus = [sku for sku in sku_list if sku not in skus_dict]\n",
    "invalid_skus\n"
   ]
  },
  {
   "cell_type": "code",
   "execution_count": null,
   "id": "e5c0fe11",
   "metadata": {},
   "outputs": [],
   "source": [
    "results = {}\n",
    "\n",
    "order = [\n",
    "    {\n",
    "      \"sku\": \"SKU-A100\",\n",
    "      \"description\": \"Sport T shirt\",\n",
    "      \"size\": \"M\",\n",
    "      \"color\": \"Red\",\n",
    "      \"quantity\": 4,\n",
    "      \"unit_price\": 10.0\n",
    "    },\n",
    "    {\n",
    "      \"sku\": \"SKU-A102\",\n",
    "      \"description\": \"Hoodie\",\n",
    "      \"size\": \"M\",\n",
    "      \"color\": \"Black\",\n",
    "      \"quantity\": 20,\n",
    "      \"unit_price\": 25.0\n",
    "    },\n",
    "    {\n",
    "      \"sku\": \"SKU-A103\",\n",
    "      \"description\": \"Hoodie\",\n",
    "      \"size\": \"L\",\n",
    "      \"color\": \"Black\",\n",
    "      \"quantity\": 30,\n",
    "      \"unit_price\": 25.0\n",
    "    },\n",
    "    {\n",
    "      \"sku\": \"SKU-A104\",\n",
    "      \"description\": \"Elephant T-shirt\",\n",
    "      \"size\": \"S\",\n",
    "      \"color\": \"White\",\n",
    "      \"quantity\": 5,\n",
    "      \"unit_price\": 100.0\n",
    "    }\n",
    "  ]\n",
    "\n",
    "    \n",
    "facilities = await data_store.query_data(\n",
    "      f\"SELECT * FROM c\", \n",
    "      \"facility\"\n",
    "  )\n",
    "\n",
    "console.print(f\"Facilities for SKU {sku_id}: {facilities}\")\n",
    "\n",
    "for item in order:\n",
    "    sku_id = item[\"sku\"]\n",
    "    quantity = item[\"quantity\"]\n",
    "\n",
    "    \n",
    "    \n",
    "    total_available = 0\n",
    "    locations = []\n",
    "    \n",
    "    for facility in facilities:\n",
    "        for sku_availability in facility.get(\"skuAvailability\", []):\n",
    "          if sku_id in sku_availability[\"sku\"]:\n",
    "              available = sku_availability[\"availableQuantity\"]\n",
    "              total_available += available\n",
    "              locations.append({\n",
    "                  \"facility_id\": facility[\"id\"],\n",
    "                  \"name\": facility.get(\"name\", \"Unknown\"),\n",
    "                  \"available\": available\n",
    "              })\n",
    "      \n",
    "    results[sku_id] = {\n",
    "        \"requested\": quantity,\n",
    "        \"available\": total_available,\n",
    "        \"is_available\": total_available >= quantity,\n",
    "        \"locations\": locations\n",
    "    }\n",
    "\n",
    "results\n",
    "\n"
   ]
  },
  {
   "cell_type": "code",
   "execution_count": null,
   "id": "d57483fc",
   "metadata": {},
   "outputs": [],
   "source": [
    "from order.validator_agent import validator_agent"
   ]
  },
  {
   "cell_type": "code",
   "execution_count": null,
   "id": "0950fe0e",
   "metadata": {},
   "outputs": [],
   "source": [
    "validator_agent.kernel.__dict__"
   ]
  },
  {
   "cell_type": "code",
   "execution_count": null,
   "id": "071ef02d",
   "metadata": {},
   "outputs": [],
   "source": [
    "# Save the modified agent instructions for future use\n",
    "def save_agent_instructions():\n",
    "    # Create a dictionary with agent instructions\n",
    "    instructions = {\n",
    "        \"validator_agent\": validator_agent.instructions,\n",
    "        \"substitution_agent\": substitution_agent.instructions,\n",
    "        \"pricing_agent\": pricing_agent.instructions,\n",
    "        \"fulfillment_agent\": fulfillment_agent.instructions\n",
    "    }\n",
    "    \n",
    "    import json\n",
    "    import os\n",
    "    \n",
    "    # Create directory if it doesn't exist\n",
    "    os.makedirs(\"./output\", exist_ok=True)\n",
    "    \n",
    "    # Save instructions to file\n",
    "    with open(\"./output/agent_instructions.json\", \"w\") as f:\n",
    "        json.dump(instructions, f, indent=2)\n",
    "    \n",
    "    print(\"Agent instructions saved to ./output/agent_instructions.json\")\n",
    "\n",
    "# Uncomment to save instructions\n",
    "# save_agent_instructions()"
   ]
  },
  {
   "cell_type": "code",
   "execution_count": null,
   "id": "ea876b6b",
   "metadata": {},
   "outputs": [],
   "source": []
  }
 ],
 "metadata": {
  "kernelspec": {
   "display_name": ".venv",
   "language": "python",
   "name": "python3"
  },
  "language_info": {
   "codemirror_mode": {
    "name": "ipython",
    "version": 3
   },
   "file_extension": ".py",
   "mimetype": "text/x-python",
   "name": "python",
   "nbconvert_exporter": "python",
   "pygments_lexer": "ipython3",
   "version": "3.13.2"
  }
 },
 "nbformat": 4,
 "nbformat_minor": 5
}
