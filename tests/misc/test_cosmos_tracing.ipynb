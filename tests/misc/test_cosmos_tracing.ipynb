{
 "cells": [
  {
   "cell_type": "code",
   "execution_count": null,
   "id": "9e0e7cb9",
   "metadata": {},
   "outputs": [],
   "source": [
    "%load_ext autoreload\n",
    "%autoreload 2"
   ]
  },
  {
   "cell_type": "code",
   "execution_count": null,
   "id": "8fdef819",
   "metadata": {},
   "outputs": [],
   "source": [
    "import sys\n",
    "sys.path.append(\"../../src/agents\")"
   ]
  },
  {
   "cell_type": "code",
   "execution_count": null,
   "id": "cc458ca3",
   "metadata": {},
   "outputs": [],
   "source": [
    "from dotenv import load_dotenv\n",
    "\n",
    "load_dotenv(override=True)"
   ]
  },
  {
   "cell_type": "code",
   "execution_count": null,
   "id": "551beae1",
   "metadata": {},
   "outputs": [],
   "source": [
    "from azure.monitor.opentelemetry import configure_azure_monitor\n",
    "connection_string = os.getenv(\"APPLICATIONINSIGHTS_CONNECTIONSTRING\")\n",
    "configure_azure_monitor(connection_string=connection_string)"
   ]
  },
  {
   "cell_type": "code",
   "execution_count": null,
   "id": "8cf450a4",
   "metadata": {},
   "outputs": [],
   "source": [
    "from utils.store import CosmosDataStore\n",
    "\n",
    "store = CosmosDataStore()\n",
    "\n",
    "result = await store.get_data(\"cust001\", \"customer\")"
   ]
  },
  {
   "cell_type": "code",
   "execution_count": null,
   "id": "5eaa734c",
   "metadata": {},
   "outputs": [],
   "source": [
    "result"
   ]
  },
  {
   "cell_type": "code",
   "execution_count": null,
   "id": "ae1ed3d8",
   "metadata": {},
   "outputs": [],
   "source": [
    "from order.price_agent import pricing_agent\n",
    "from semantic_kernel.contents import ChatHistory\n",
    "\n",
    "h = ChatHistory()\n",
    "h.add_user_message(\"What is the price for SKU-A100?\")\n",
    "\n",
    "res = await pricing_agent.get_response(h)"
   ]
  },
  {
   "cell_type": "code",
   "execution_count": null,
   "id": "f02e6278",
   "metadata": {},
   "outputs": [],
   "source": [
    "res.content"
   ]
  },
  {
   "cell_type": "code",
   "execution_count": null,
   "id": "7873017c",
   "metadata": {},
   "outputs": [],
   "source": [
    "from order.order_team import assistant_team\n",
    "from semantic_kernel.contents import ChatHistory\n",
    "from opentelemetry import trace\n",
    "\n",
    "h = ChatHistory()\n",
    "h.add_user_message(\"What is the price for SKU-A100?\")\n",
    "\n",
    "\n",
    "# tracer = trace.get_tracer(__name__)\n",
    "# with tracer.start_as_current_span(\"sk_actor._invoke_agent\") as span:\n",
    "res = await assistant_team.get_response(h)"
   ]
  },
  {
   "cell_type": "code",
   "execution_count": null,
   "id": "2867ecaf",
   "metadata": {},
   "outputs": [],
   "source": [
    "res.content"
   ]
  }
 ],
 "metadata": {
  "kernelspec": {
   "display_name": ".venv",
   "language": "python",
   "name": "python3"
  },
  "language_info": {
   "codemirror_mode": {
    "name": "ipython",
    "version": 3
   },
   "file_extension": ".py",
   "mimetype": "text/x-python",
   "name": "python",
   "nbconvert_exporter": "python",
   "pygments_lexer": "ipython3",
   "version": "3.13.2"
  }
 },
 "nbformat": 4,
 "nbformat_minor": 5
}
