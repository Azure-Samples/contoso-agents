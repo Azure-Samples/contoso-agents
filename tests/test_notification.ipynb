{
 "cells": [
  {
   "cell_type": "markdown",
   "id": "a59315be",
   "metadata": {},
   "source": [
    "See [https://learn.microsoft.com/en-us/azure/bot-service/rest-api/bot-framework-rest-connector-authentication?view=azure-bot-service-4.0&tabs=singletenant](https://learn.microsoft.com/en-us/azure/bot-service/rest-api/bot-framework-rest-connector-authentication?view=azure-bot-service-4.0&tabs=singletenant) for more information on how to authenticate with the Bot Framework Connector service."
   ]
  },
  {
   "cell_type": "code",
   "execution_count": 14,
   "id": "573e9473",
   "metadata": {},
   "outputs": [],
   "source": [
    "import requests\n",
    "from dotenv import load_dotenv\n",
    "load_dotenv(override=True)\n",
    "\n",
    "import os"
   ]
  },
  {
   "cell_type": "code",
   "execution_count": 20,
   "id": "5f5f4bca",
   "metadata": {},
   "outputs": [],
   "source": [
    "from azure.identity import ClientSecretCredential\n",
    "\n",
    "# Get an Azure AD token with client credentials\n",
    "def get_token():\n",
    "    credential = ClientSecretCredential(\n",
    "        tenant_id=os.getenv(\"BOT_TENANT_ID\"),\n",
    "        client_id=os.getenv(\"BOT_APP_ID\"),\n",
    "        client_secret=os.getenv(\"BOT_PASSWORD\")\n",
    "    )\n",
    "    token = credential.get_token(\"https://api.botframework.com/.default\")\n",
    "    return token.token\n"
   ]
  },
  {
   "cell_type": "code",
   "execution_count": 18,
   "id": "e3f62af1",
   "metadata": {},
   "outputs": [],
   "source": [
    "def send_directline_message(conversation_id, message_text, from_user=\"user1\"):\n",
    "    \"\"\"\n",
    "    Sends a message to a DirectLine conversation.\n",
    "\n",
    "    Args:\n",
    "        conversation_id (str): The conversation ID to send the message to.\n",
    "        message_text (str): The message text to send.\n",
    "        from_user (str): The user ID sending the message.\n",
    "    Returns:\n",
    "        dict: The response from the DirectLine API.\n",
    "    \"\"\"\n",
    "    url = f\"https://smba.trafficmanager.net/teams/v3/conversations/{conversation_id}/activities\"\n",
    "    directline_secret = get_token()\n",
    "    headers = {\n",
    "        \"Authorization\": f\"Bearer {directline_secret}\",\n",
    "        \"Content-Type\": \"application/json\"\n",
    "    }\n",
    "    payload = {\n",
    "        \"type\": \"message\",\n",
    "        \"from\": {\"id\": from_user},\n",
    "        \"attachments\": [\n",
    "        {\n",
    "            \"contentType\": \"application/vnd.microsoft.card.adaptive\",\n",
    "            \"content\": {\n",
    "                \"$schema\": \"http://adaptivecards.io/schemas/adaptive-card.json\",\n",
    "                \"type\": \"AdaptiveCard\",\n",
    "                \"version\": \"1.3\",\n",
    "                \"body\": [\n",
    "                    {\n",
    "                        \"type\": \"TextBlock\",\n",
    "                        \"text\": \"**Hello**, this is a *formatted* message with a [link](https://example.com)!\",\n",
    "                        \"wrap\": True\n",
    "                    }\n",
    "                ]\n",
    "            }\n",
    "        }\n",
    "    ]\n",
    "    }\n",
    "    response = requests.post(url, headers=headers, json=payload)\n",
    "    response.raise_for_status()\n",
    "    return response.json()"
   ]
  },
  {
   "cell_type": "code",
   "execution_count": null,
   "id": "3d02be04",
   "metadata": {},
   "outputs": [],
   "source": [
    "conversation_id = \"YOUR_CONVERSATION_ID\"  # Replace with your conversation ID"
   ]
  },
  {
   "cell_type": "code",
   "execution_count": null,
   "id": "4067d918",
   "metadata": {},
   "outputs": [
    {
     "data": {
      "text/plain": [
       "{'id': '1744726365383'}"
      ]
     },
     "execution_count": 21,
     "metadata": {},
     "output_type": "execute_result"
    }
   ],
   "source": [
    "send_directline_message(conversation_id=conversation_id,\n",
    "                        message_text=\"Hello from Python!\", from_user=\"test\")"
   ]
  }
 ],
 "metadata": {
  "kernelspec": {
   "display_name": "Python 3",
   "language": "python",
   "name": "python3"
  },
  "language_info": {
   "codemirror_mode": {
    "name": "ipython",
    "version": 3
   },
   "file_extension": ".py",
   "mimetype": "text/x-python",
   "name": "python",
   "nbconvert_exporter": "python",
   "pygments_lexer": "ipython3",
   "version": "3.12.9"
  }
 },
 "nbformat": 4,
 "nbformat_minor": 5
}
